{
 "cells": [
  {
   "cell_type": "markdown",
   "metadata": {},
   "source": [
    "# Pocily Enforcement Point (PEP) on Server"
   ]
  },
  {
   "cell_type": "code",
   "execution_count": 1,
   "metadata": {},
   "outputs": [],
   "source": [
    "from keycloak import KeycloakOpenID"
   ]
  },
  {
   "cell_type": "code",
   "execution_count": 2,
   "metadata": {},
   "outputs": [],
   "source": [
    "keycloak_openid = KeycloakOpenID(server_url=\"http://localhost:8080/auth/\",\n",
    "                    client_id=\"server-rest-api\",\n",
    "                    realm_name=\"CVAT\",\n",
    "                    client_secret_key=\"620466c7-f295-4872-8784-ef66dcf4935f\")"
   ]
  },
  {
   "cell_type": "code",
   "execution_count": 3,
   "metadata": {},
   "outputs": [],
   "source": [
    "config_well_know = keycloak_openid.well_know()"
   ]
  },
  {
   "cell_type": "code",
   "execution_count": 4,
   "metadata": {},
   "outputs": [],
   "source": [
    "import json"
   ]
  },
  {
   "cell_type": "code",
   "execution_count": 5,
   "metadata": {},
   "outputs": [
    {
     "name": "stdout",
     "output_type": "stream",
     "text": [
      "{\n",
      "    \"issuer\": \"http://localhost:8080/auth/realms/CVAT\",\n",
      "    \"authorization_endpoint\": \"http://localhost:8080/auth/realms/CVAT/protocol/openid-connect/auth\",\n",
      "    \"token_endpoint\": \"http://localhost:8080/auth/realms/CVAT/protocol/openid-connect/token\",\n",
      "    \"token_introspection_endpoint\": \"http://localhost:8080/auth/realms/CVAT/protocol/openid-connect/token/introspect\",\n",
      "    \"userinfo_endpoint\": \"http://localhost:8080/auth/realms/CVAT/protocol/openid-connect/userinfo\",\n",
      "    \"end_session_endpoint\": \"http://localhost:8080/auth/realms/CVAT/protocol/openid-connect/logout\",\n",
      "    \"jwks_uri\": \"http://localhost:8080/auth/realms/CVAT/protocol/openid-connect/certs\",\n",
      "    \"check_session_iframe\": \"http://localhost:8080/auth/realms/CVAT/protocol/openid-connect/login-status-iframe.html\",\n",
      "    \"grant_types_supported\": [\n",
      "        \"authorization_code\",\n",
      "        \"implicit\",\n",
      "        \"refresh_token\",\n",
      "        \"password\",\n",
      "        \"client_credentials\"\n",
      "    ],\n",
      "    \"response_types_supported\": [\n",
      "        \"code\",\n",
      "        \"none\",\n",
      "        \"id_token\",\n",
      "        \"token\",\n",
      "        \"id_token token\",\n",
      "        \"code id_token\",\n",
      "        \"code token\",\n",
      "        \"code id_token token\"\n",
      "    ],\n",
      "    \"subject_types_supported\": [\n",
      "        \"public\",\n",
      "        \"pairwise\"\n",
      "    ],\n",
      "    \"id_token_signing_alg_values_supported\": [\n",
      "        \"PS384\",\n",
      "        \"ES384\",\n",
      "        \"RS384\",\n",
      "        \"HS256\",\n",
      "        \"HS512\",\n",
      "        \"ES256\",\n",
      "        \"RS256\",\n",
      "        \"HS384\",\n",
      "        \"ES512\",\n",
      "        \"PS256\",\n",
      "        \"PS512\",\n",
      "        \"RS512\"\n",
      "    ],\n",
      "    \"id_token_encryption_alg_values_supported\": [\n",
      "        \"RSA-OAEP\",\n",
      "        \"RSA1_5\"\n",
      "    ],\n",
      "    \"id_token_encryption_enc_values_supported\": [\n",
      "        \"A128GCM\",\n",
      "        \"A128CBC-HS256\"\n",
      "    ],\n",
      "    \"userinfo_signing_alg_values_supported\": [\n",
      "        \"PS384\",\n",
      "        \"ES384\",\n",
      "        \"RS384\",\n",
      "        \"HS256\",\n",
      "        \"HS512\",\n",
      "        \"ES256\",\n",
      "        \"RS256\",\n",
      "        \"HS384\",\n",
      "        \"ES512\",\n",
      "        \"PS256\",\n",
      "        \"PS512\",\n",
      "        \"RS512\",\n",
      "        \"none\"\n",
      "    ],\n",
      "    \"request_object_signing_alg_values_supported\": [\n",
      "        \"PS384\",\n",
      "        \"ES384\",\n",
      "        \"RS384\",\n",
      "        \"HS256\",\n",
      "        \"HS512\",\n",
      "        \"ES256\",\n",
      "        \"RS256\",\n",
      "        \"HS384\",\n",
      "        \"ES512\",\n",
      "        \"PS256\",\n",
      "        \"PS512\",\n",
      "        \"RS512\",\n",
      "        \"none\"\n",
      "    ],\n",
      "    \"response_modes_supported\": [\n",
      "        \"query\",\n",
      "        \"fragment\",\n",
      "        \"form_post\"\n",
      "    ],\n",
      "    \"registration_endpoint\": \"http://localhost:8080/auth/realms/CVAT/clients-registrations/openid-connect\",\n",
      "    \"token_endpoint_auth_methods_supported\": [\n",
      "        \"private_key_jwt\",\n",
      "        \"client_secret_basic\",\n",
      "        \"client_secret_post\",\n",
      "        \"tls_client_auth\",\n",
      "        \"client_secret_jwt\"\n",
      "    ],\n",
      "    \"token_endpoint_auth_signing_alg_values_supported\": [\n",
      "        \"PS384\",\n",
      "        \"ES384\",\n",
      "        \"RS384\",\n",
      "        \"HS256\",\n",
      "        \"HS512\",\n",
      "        \"ES256\",\n",
      "        \"RS256\",\n",
      "        \"HS384\",\n",
      "        \"ES512\",\n",
      "        \"PS256\",\n",
      "        \"PS512\",\n",
      "        \"RS512\"\n",
      "    ],\n",
      "    \"claims_supported\": [\n",
      "        \"aud\",\n",
      "        \"sub\",\n",
      "        \"iss\",\n",
      "        \"auth_time\",\n",
      "        \"name\",\n",
      "        \"given_name\",\n",
      "        \"family_name\",\n",
      "        \"preferred_username\",\n",
      "        \"email\",\n",
      "        \"acr\"\n",
      "    ],\n",
      "    \"claim_types_supported\": [\n",
      "        \"normal\"\n",
      "    ],\n",
      "    \"claims_parameter_supported\": false,\n",
      "    \"scopes_supported\": [\n",
      "        \"openid\",\n",
      "        \"microprofile-jwt\",\n",
      "        \"web-origins\",\n",
      "        \"roles\",\n",
      "        \"phone\",\n",
      "        \"address\",\n",
      "        \"email\",\n",
      "        \"profile\",\n",
      "        \"offline_access\"\n",
      "    ],\n",
      "    \"request_parameter_supported\": true,\n",
      "    \"request_uri_parameter_supported\": true,\n",
      "    \"code_challenge_methods_supported\": [\n",
      "        \"plain\",\n",
      "        \"S256\"\n",
      "    ],\n",
      "    \"tls_client_certificate_bound_access_tokens\": true,\n",
      "    \"introspection_endpoint\": \"http://localhost:8080/auth/realms/CVAT/protocol/openid-connect/token/introspect\"\n",
      "}\n"
     ]
    }
   ],
   "source": [
    "print(json.dumps(config_well_know, indent=4))"
   ]
  },
  {
   "cell_type": "code",
   "execution_count": 6,
   "metadata": {},
   "outputs": [],
   "source": [
    "token = keycloak_openid.token(\"user1\", \"user1\")"
   ]
  },
  {
   "cell_type": "code",
   "execution_count": 7,
   "metadata": {},
   "outputs": [
    {
     "name": "stdout",
     "output_type": "stream",
     "text": [
      "{\n",
      "    \"access_token\": \"eyJhbGciOiJSUzI1NiIsInR5cCIgOiAiSldUIiwia2lkIiA6ICJtTTJBR0dxTUFpN3h4RzkzeW9IeTZvUFdHZmR5NjVCYWdhM0ItM2FueTdJIn0.eyJqdGkiOiJiZmVkNGVlYy1iMGZiLTQ5MmItYWM3Ny05N2M3ZDRjZmExNzUiLCJleHAiOjE1ODQ4NjEzMjQsIm5iZiI6MCwiaWF0IjoxNTg0ODYxMDI0LCJpc3MiOiJodHRwOi8vbG9jYWxob3N0OjgwODAvYXV0aC9yZWFsbXMvQ1ZBVCIsImF1ZCI6ImFjY291bnQiLCJzdWIiOiJmYjRlZjQ1Zi04OTAxLTQwMWMtODYxMC0zMDhjM2U1MzRkYzciLCJ0eXAiOiJCZWFyZXIiLCJhenAiOiJzZXJ2ZXItcmVzdC1hcGkiLCJhdXRoX3RpbWUiOjAsInNlc3Npb25fc3RhdGUiOiIyMjExYzA4OC00MDBiLTRlZTktYTg1OS1lYzE5M2NlNmU0YWMiLCJhY3IiOiIxIiwiYWxsb3dlZC1vcmlnaW5zIjpbImh0dHA6Ly9sb2NhbGhvc3Q6ODA4MCJdLCJyZWFsbV9hY2Nlc3MiOnsicm9sZXMiOlsib2ZmbGluZV9hY2Nlc3MiLCJ1bWFfYXV0aG9yaXphdGlvbiJdfSwicmVzb3VyY2VfYWNjZXNzIjp7ImFjY291bnQiOnsicm9sZXMiOlsibWFuYWdlLWFjY291bnQiLCJtYW5hZ2UtYWNjb3VudC1saW5rcyIsInZpZXctcHJvZmlsZSJdfSwic2VydmVyLXJlc3QtYXBpIjp7InJvbGVzIjpbInVzZXIiXX19LCJzY29wZSI6ImVtYWlsIHByb2ZpbGUiLCJlbWFpbF92ZXJpZmllZCI6ZmFsc2UsIm5hbWUiOiJmaXJzdC11c2VyMSBsYXN0LXVzZXIxIiwicHJlZmVycmVkX3VzZXJuYW1lIjoidXNlcjEiLCJnaXZlbl9uYW1lIjoiZmlyc3QtdXNlcjEiLCJmYW1pbHlfbmFtZSI6Imxhc3QtdXNlcjEifQ.g0nOawvBvaHsT8ZMzy5fHYYYaRim-80VoYNrnrwm_3knzH3q7BqLTYFTlaicpZfURF82eznnQzxp_I08jbobYP93jx9tkR118NLeOH70wpogP7szQyiyE68wNfV4q0MyJJ06f8Gcj9Nb9ue6xO2wlCME_a5FrHW0QEYM1bKC0wCuQrc4Zz2EO4mMhn_IJzl0u2JcsbEpfm4mxRp2kXBSYdrc8rStfLu00ZzXFtBBjuyDgiz7Po4E5TsDRrSc9DUaAu89yC58KfhYNzs-jG5NhwM1Q8oWaxfV7oMbRdCiXeGM5dXK5INVQvecbIpauXiTYKc69U0oYLliOX5CdkM8YQ\",\n",
      "    \"expires_in\": 300,\n",
      "    \"refresh_expires_in\": 1800,\n",
      "    \"refresh_token\": \"eyJhbGciOiJIUzI1NiIsInR5cCIgOiAiSldUIiwia2lkIiA6ICJjOGQwMTVhNi00NDQxLTRiNDAtOThiYy04ZDU3NzNhYTZhNTUifQ.eyJqdGkiOiIyNGJiMjcxOC0wZjQyLTQ2ZmUtOWZmNy0xNGUxYTczMzIwZTQiLCJleHAiOjE1ODQ4NjI4MjQsIm5iZiI6MCwiaWF0IjoxNTg0ODYxMDI0LCJpc3MiOiJodHRwOi8vbG9jYWxob3N0OjgwODAvYXV0aC9yZWFsbXMvQ1ZBVCIsImF1ZCI6Imh0dHA6Ly9sb2NhbGhvc3Q6ODA4MC9hdXRoL3JlYWxtcy9DVkFUIiwic3ViIjoiZmI0ZWY0NWYtODkwMS00MDFjLTg2MTAtMzA4YzNlNTM0ZGM3IiwidHlwIjoiUmVmcmVzaCIsImF6cCI6InNlcnZlci1yZXN0LWFwaSIsImF1dGhfdGltZSI6MCwic2Vzc2lvbl9zdGF0ZSI6IjIyMTFjMDg4LTQwMGItNGVlOS1hODU5LWVjMTkzY2U2ZTRhYyIsInJlYWxtX2FjY2VzcyI6eyJyb2xlcyI6WyJvZmZsaW5lX2FjY2VzcyIsInVtYV9hdXRob3JpemF0aW9uIl19LCJyZXNvdXJjZV9hY2Nlc3MiOnsiYWNjb3VudCI6eyJyb2xlcyI6WyJtYW5hZ2UtYWNjb3VudCIsIm1hbmFnZS1hY2NvdW50LWxpbmtzIiwidmlldy1wcm9maWxlIl19LCJzZXJ2ZXItcmVzdC1hcGkiOnsicm9sZXMiOlsidXNlciJdfX0sInNjb3BlIjoiZW1haWwgcHJvZmlsZSJ9.hy-Vgwfc8u9E5alzRuGsbDfh4mmjT3nnqSpOBAp4Lm8\",\n",
      "    \"token_type\": \"bearer\",\n",
      "    \"not-before-policy\": 0,\n",
      "    \"session_state\": \"2211c088-400b-4ee9-a859-ec193ce6e4ac\",\n",
      "    \"scope\": \"email profile\"\n",
      "}\n"
     ]
    }
   ],
   "source": [
    "print(json.dumps(token, indent=4))"
   ]
  },
  {
   "cell_type": "code",
   "execution_count": 8,
   "metadata": {},
   "outputs": [],
   "source": [
    "userinfo = keycloak_openid.userinfo(token['access_token'])"
   ]
  },
  {
   "cell_type": "code",
   "execution_count": 9,
   "metadata": {},
   "outputs": [
    {
     "name": "stdout",
     "output_type": "stream",
     "text": [
      "{\n",
      "    \"sub\": \"fb4ef45f-8901-401c-8610-308c3e534dc7\",\n",
      "    \"email_verified\": false,\n",
      "    \"name\": \"first-user1 last-user1\",\n",
      "    \"preferred_username\": \"user1\",\n",
      "    \"given_name\": \"first-user1\",\n",
      "    \"family_name\": \"last-user1\"\n",
      "}\n"
     ]
    }
   ],
   "source": [
    "print(json.dumps(userinfo, indent=4))"
   ]
  },
  {
   "cell_type": "code",
   "execution_count": 10,
   "metadata": {
    "scrolled": true
   },
   "outputs": [
    {
     "name": "stdout",
     "output_type": "stream",
     "text": [
      "[\n",
      "    {\n",
      "        \"scopes\": [\n",
      "            \"view\",\n",
      "            \"update\",\n",
      "            \"create\",\n",
      "            \"annotate\",\n",
      "            \"comment\",\n",
      "            \"delete\"\n",
      "        ],\n",
      "        \"rsid\": \"48864bc8-0ae8-40db-8a23-ffbd8d4df669\",\n",
      "        \"rsname\": \"/tasks/1\"\n",
      "    },\n",
      "    {\n",
      "        \"scopes\": [\n",
      "            \"view\",\n",
      "            \"update\",\n",
      "            \"create\",\n",
      "            \"annotate\",\n",
      "            \"comment\"\n",
      "        ],\n",
      "        \"rsid\": \"15137e59-f956-4978-83ab-fb09fc20e3ce\",\n",
      "        \"rsname\": \"/jobs/2\"\n",
      "    },\n",
      "    {\n",
      "        \"scopes\": [\n",
      "            \"create\"\n",
      "        ],\n",
      "        \"rsid\": \"30295dca-40a3-4739-bb91-e3de96d636ee\",\n",
      "        \"rsname\": \"/projects/1\"\n",
      "    },\n",
      "    {\n",
      "        \"scopes\": [\n",
      "            \"view\",\n",
      "            \"update\",\n",
      "            \"create\",\n",
      "            \"delete\"\n",
      "        ],\n",
      "        \"rsid\": \"dd703d7e-3815-44a5-8eb1-b9f3e7228e26\",\n",
      "        \"rsname\": \"/models/1\"\n",
      "    },\n",
      "    {\n",
      "        \"scopes\": [\n",
      "            \"view\",\n",
      "            \"update\",\n",
      "            \"create\",\n",
      "            \"annotate\",\n",
      "            \"comment\"\n",
      "        ],\n",
      "        \"rsid\": \"03492ff0-d494-406e-96cd-8117f03a016c\",\n",
      "        \"rsname\": \"/jobs/1\"\n",
      "    }\n",
      "]\n"
     ]
    }
   ],
   "source": [
    "try:\n",
    "    rpt = keycloak_openid.entitlement(token['access_token'], response_mode=\"permissions\")\n",
    "    print(json.dumps(rpt, indent=4))\n",
    "except Exception as e:\n",
    "    print(e)"
   ]
  },
  {
   "cell_type": "raw",
   "metadata": {},
   "source": [
    "\n"
   ]
  },
  {
   "cell_type": "code",
   "execution_count": 11,
   "metadata": {},
   "outputs": [],
   "source": [
    "token = keycloak_openid.token(\"user3\", \"user3\") # user3 is owner of projects/1"
   ]
  },
  {
   "cell_type": "code",
   "execution_count": 12,
   "metadata": {},
   "outputs": [
    {
     "name": "stdout",
     "output_type": "stream",
     "text": [
      "{\n",
      "    \"result\": true\n",
      "}\n"
     ]
    }
   ],
   "source": [
    "try:\n",
    "    rpt = keycloak_openid.entitlement(token['access_token'], permissions=[\"/projects/1#delete\"], response_mode=\"decision\")\n",
    "    print(json.dumps(rpt, indent=4))\n",
    "except Exception as e:\n",
    "    print(e)"
   ]
  },
  {
   "cell_type": "markdown",
   "metadata": {},
   "source": [
    "# Manager of resources\n",
    "\n",
    "Remotely create resources on Keycloak server using REST API. Read https://www.keycloak.org/docs/latest/authorization_services/#_service_protection_resources_api"
   ]
  },
  {
   "cell_type": "code",
   "execution_count": 48,
   "metadata": {},
   "outputs": [],
   "source": [
    "import requests\n",
    "REALM_NAME = \"CVAT\"\n",
    "URL_KC_BASE = \"http://localhost:8080/auth/\"\n",
    "URL_KC_REALM_BASE = URL_KC_BASE + \"realms/{}/\".format(REALM_NAME)\n",
    "URL_KC_TOKEN = URL_KC_REALM_BASE + \"protocol/openid-connect/token\" \n",
    "response = requests.post(URL_KC_TOKEN, data={\n",
    "    \"grant_type\": \"client_credentials\",\n",
    "    \"client_id\": \"server-rest-api\",\n",
    "    \"client_secret\": \"620466c7-f295-4872-8784-ef66dcf4935f\"})"
   ]
  },
  {
   "cell_type": "code",
   "execution_count": 49,
   "metadata": {},
   "outputs": [],
   "source": [
    "response = json.loads(response.text)"
   ]
  },
  {
   "cell_type": "code",
   "execution_count": 50,
   "metadata": {},
   "outputs": [],
   "source": [
    "pat = response[\"access_token\"]"
   ]
  },
  {
   "cell_type": "code",
   "execution_count": 51,
   "metadata": {},
   "outputs": [],
   "source": [
    "URL_KC_RESOURCE_SET = URL_KC_REALM_BASE + \"authz/protection/resource_set\"\n",
    "RESOURCE_NAME = \"/projects/2\"\n",
    "resource = {\n",
    "    \"name\": RESOURCE_NAME,\n",
    "    \"type\": \"project\",\n",
    "    \"resource_scopes\": [\n",
    "        \"update\", \"delete\", \"view\", \"comment\", \"annotate\",\n",
    "    ],\n",
    "    \"ownerManagedAccess\": True,\n",
    "    \"owner\": \"user1\",\n",
    "}\n",
    "headers = {\n",
    "    \"Authorization\": \"Bearer \" + pat,\n",
    "    \"Content-Type\": \"application/json\",\n",
    "}\n",
    "\n",
    "response = requests.post(URL_KC_RESOURCE_SET, data=json.dumps(resource),\n",
    "    headers=headers)"
   ]
  },
  {
   "cell_type": "code",
   "execution_count": 52,
   "metadata": {},
   "outputs": [
    {
     "name": "stdout",
     "output_type": "stream",
     "text": [
      "{\"name\":\"/projects/2\",\"type\":\"project\",\"owner\":{\"id\":\"fb4ef45f-8901-401c-8610-308c3e534dc7\",\"name\":\"user1\"},\"ownerManagedAccess\":true,\"_id\":\"7c364e4e-cb94-4ac9-b283-638a8e13ecfa\",\"resource_scopes\":[{\"id\":\"12e6dbc9-8402-4dd6-bb1c-78744b320da0\",\"name\":\"view\"},{\"id\":\"80dd8b12-ef07-4e7f-8047-1a92d2e14807\",\"name\":\"update\"},{\"id\":\"fbab188c-9c5a-4aac-b533-0dd40dcc226e\",\"name\":\"comment\"},{\"id\":\"c86711ec-eeff-40b3-9bb3-1d9cc663af4c\",\"name\":\"delete\"},{\"id\":\"102499e3-dc9e-4631-93ba-63bb4c49f395\",\"name\":\"annotate\"}],\"scopes\":[{\"id\":\"12e6dbc9-8402-4dd6-bb1c-78744b320da0\",\"name\":\"view\"},{\"id\":\"80dd8b12-ef07-4e7f-8047-1a92d2e14807\",\"name\":\"update\"},{\"id\":\"fbab188c-9c5a-4aac-b533-0dd40dcc226e\",\"name\":\"comment\"},{\"id\":\"c86711ec-eeff-40b3-9bb3-1d9cc663af4c\",\"name\":\"delete\"},{\"id\":\"102499e3-dc9e-4631-93ba-63bb4c49f395\",\"name\":\"annotate\"}]}\n"
     ]
    }
   ],
   "source": [
    "print(response.text)\n"
   ]
  },
  {
   "cell_type": "code",
   "execution_count": 53,
   "metadata": {},
   "outputs": [
    {
     "data": {
      "text/plain": [
       "<Response [204]>"
      ]
     },
     "execution_count": 53,
     "metadata": {},
     "output_type": "execute_result"
    }
   ],
   "source": [
    "response = requests.get(URL_KC_RESOURCE_SET, params={\"name\": RESOURCE_NAME}, headers=headers)\n",
    "resource_id = response.json()[0]\n",
    "requests.delete(URL_KC_RESOURCE_SET + '/' + resource_id, headers=headers)"
   ]
  },
  {
   "cell_type": "markdown",
   "metadata": {},
   "source": [
    "# Manager of policies and permissions\n",
    "\n",
    "Use [Admin REST API](https://www.keycloak.org/docs-api/9.0/rest-api/index.html) to create/update/delete policies and permissions.\n",
    "\n",
    "No authorizationSettings in response (information about policies, scopes, ...): https://lists.jboss.org/pipermail/keycloak-user/2019-June/018454.html\n"
   ]
  },
  {
   "cell_type": "code",
   "execution_count": 82,
   "metadata": {},
   "outputs": [
    {
     "name": "stdout",
     "output_type": "stream",
     "text": [
      "Permissions:\n",
      "[\n",
      "    {\n",
      "        \"id\": \"7c81fdc7-3ea3-4213-85b4-e0f3c58b8d89\",\n",
      "        \"name\": \"admin:/*\",\n",
      "        \"description\": \"Admin for all resources\",\n",
      "        \"type\": \"scope\",\n",
      "        \"logic\": \"POSITIVE\",\n",
      "        \"decisionStrategy\": \"AFFIRMATIVE\"\n",
      "    },\n",
      "    {\n",
      "        \"id\": \"71a3d703-9144-45b8-a7fd-453322a87c93\",\n",
      "        \"name\": \"creator:/*\",\n",
      "        \"description\": \"Create a new object\",\n",
      "        \"type\": \"scope\",\n",
      "        \"logic\": \"POSITIVE\",\n",
      "        \"decisionStrategy\": \"AFFIRMATIVE\"\n",
      "    },\n",
      "    {\n",
      "        \"id\": \"a80d0cff-e305-42d0-97e5-316b5873fa2b\",\n",
      "        \"name\": \"owner:/jobs/1\",\n",
      "        \"description\": \"Owner of /jobs/1\",\n",
      "        \"type\": \"scope\",\n",
      "        \"logic\": \"POSITIVE\",\n",
      "        \"decisionStrategy\": \"AFFIRMATIVE\"\n",
      "    },\n",
      "    {\n",
      "        \"id\": \"1323449c-7859-426e-8cd1-367e77f995d5\",\n",
      "        \"name\": \"owner:/jobs/2\",\n",
      "        \"description\": \"Owners of /jobs/2\",\n",
      "        \"type\": \"scope\",\n",
      "        \"logic\": \"POSITIVE\",\n",
      "        \"decisionStrategy\": \"AFFIRMATIVE\"\n",
      "    },\n",
      "    {\n",
      "        \"id\": \"cbaf78ce-6bb0-4b95-90c9-7d4de4db3acb\",\n",
      "        \"name\": \"owner:/models/1\",\n",
      "        \"type\": \"scope\",\n",
      "        \"logic\": \"POSITIVE\",\n",
      "        \"decisionStrategy\": \"AFFIRMATIVE\"\n",
      "    },\n",
      "    {\n",
      "        \"id\": \"a0f5dd3c-497f-4f03-9578-eb189015eb68\",\n",
      "        \"name\": \"owner:/projects/1\",\n",
      "        \"description\": \"Owners of /projects/1\",\n",
      "        \"type\": \"scope\",\n",
      "        \"logic\": \"POSITIVE\",\n",
      "        \"decisionStrategy\": \"AFFIRMATIVE\"\n",
      "    },\n",
      "    {\n",
      "        \"id\": \"0fa449c4-d96e-4a2e-be83-746b827deefb\",\n",
      "        \"name\": \"owner:/tasks/1\",\n",
      "        \"description\": \"Owners of /tasks/1\",\n",
      "        \"type\": \"scope\",\n",
      "        \"logic\": \"POSITIVE\",\n",
      "        \"decisionStrategy\": \"AFFIRMATIVE\"\n",
      "    }\n",
      "]\n"
     ]
    }
   ],
   "source": [
    "import requests\n",
    "import json\n",
    "\n",
    "KC_REALM_NAME = \"CVAT\"\n",
    "URL_KC_BASE = \"http://localhost:8080/auth/\"\n",
    "URL_KC_REALM_BASE = URL_KC_BASE + \"realms/{}/\".format(KC_REALM_NAME)\n",
    "URL_KC_TOKEN = URL_KC_REALM_BASE + \"protocol/openid-connect/token\"\n",
    "response = requests.post(URL_KC_TOKEN, data={\n",
    "    \"grant_type\": \"password\",\n",
    "    \"client_id\": \"admin-cli\",\n",
    "    \"username\": \"admin\",\n",
    "    \"password\": \"admin\"})\n",
    "response = response.json()\n",
    "pat = response[\"access_token\"]\n",
    "headers = {\n",
    "    \"Authorization\": \"Bearer \" + pat,\n",
    "    \"Content-Type\": \"application/json\",\n",
    "}\n",
    "URL_KC_ADMIN_CLIENTS = URL_KC_BASE + \"admin/realms/{}/clients\".format(KC_REALM_NAME)\n",
    "response = requests.get(URL_KC_ADMIN_CLIENTS, headers=headers)\n",
    "response = response.json()\n",
    "server_rest_api_client = None\n",
    "for client in response:\n",
    "    if client[\"clientId\"] == \"server-rest-api\":\n",
    "        server_rest_api_client = client\n",
    "\n",
    "URL_KC_ADMIN_CVAT_CLIENT_SETTINGS = URL_KC_ADMIN_CLIENTS + \"/\" + server_rest_api_client[\"id\"] + \"/authz/resource-server/settings\"\n",
    "response = requests.get(URL_KC_ADMIN_CVAT_CLIENT_SETTINGS, headers=headers)\n",
    "response = response.json()\n",
    "\n",
    "# print(json.dumps(response, indent=4))\n",
    "\n",
    "\n",
    "URL_KC_ADMIN_CVAT_CLIENT_RESOURCES = URL_KC_ADMIN_CLIENTS + \"/\" + server_rest_api_client[\"id\"] + \"/authz/resource-server/resource\"\n",
    "response = requests.get(URL_KC_ADMIN_CVAT_CLIENT_RESOURCES, headers=headers)\n",
    "response = response.json()\n",
    "\n",
    "# print(\"Resources:\\n\" + json.dumps(response, indent=4))\n",
    "\n",
    "URL_KC_ADMIN_CVAT_CLIENT_POLICIES = URL_KC_ADMIN_CLIENTS + \"/\" + server_rest_api_client[\"id\"] + \"/authz/resource-server/policy\"\n",
    "response = requests.get(URL_KC_ADMIN_CVAT_CLIENT_POLICIES, headers=headers)\n",
    "response = response.json()\n",
    "\n",
    "# print(\"Policies:\\n\" + json.dumps(response, indent=4))\n",
    "\n",
    "URL_KC_ADMIN_CVAT_CLIENT_PERMS = URL_KC_ADMIN_CLIENTS + \"/\" + server_rest_api_client[\"id\"] + \"/authz/resource-server/permission\"\n",
    "response = requests.get(URL_KC_ADMIN_CVAT_CLIENT_PERMS, headers=headers)\n",
    "response = response.json()\n",
    "\n",
    "print(\"Permissions:\\n\" + json.dumps(response, indent=4))\n",
    "\n"
   ]
  },
  {
   "cell_type": "code",
   "execution_count": null,
   "metadata": {},
   "outputs": [],
   "source": []
  }
 ],
 "metadata": {
  "kernelspec": {
   "display_name": "Python 3",
   "language": "python",
   "name": "python3"
  },
  "language_info": {
   "codemirror_mode": {
    "name": "ipython",
    "version": 3
   },
   "file_extension": ".py",
   "mimetype": "text/x-python",
   "name": "python",
   "nbconvert_exporter": "python",
   "pygments_lexer": "ipython3",
   "version": "3.7.5"
  }
 },
 "nbformat": 4,
 "nbformat_minor": 4
}
